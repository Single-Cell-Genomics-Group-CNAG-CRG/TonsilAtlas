{
 "cells": [
  {
   "cell_type": "markdown",
   "id": "f9ddb544-2194-46eb-91d8-cd9eeb127ee1",
   "metadata": {},
   "source": [
    "# scCODA: differential abundance analysis Kids vs Young adults (CD4 T)\n",
    "\n",
    "\n",
    "## Introduction\n",
    "\n",
    "The aim of this notebook is to perform a differential abundance analysis between kids and young adults for CD4 T cells of our tonsil atlas using [scCODA](https://www.nature.com/articles/s41467-021-27150-6). Previously, we subsetted to only those donors that were profiled with 3' scRNA-seq, had tonsillitis, and samples were processed fresh.\n",
    "\n",
    "\n",
    "## Pre-processing\n",
    "\n",
    "### Load packages"
   ]
  },
  {
   "cell_type": "code",
   "execution_count": 1,
   "id": "14f02f48-9b0b-4cc7-82fb-17b32edde5db",
   "metadata": {},
   "outputs": [
    {
     "name": "stderr",
     "output_type": "stream",
     "text": [
      "2023-06-13 10:03:14.085907: I tensorflow/tsl/cuda/cudart_stub.cc:28] Could not find cuda drivers on your machine, GPU will not be used.\n",
      "2023-06-13 10:03:14.239002: I tensorflow/tsl/cuda/cudart_stub.cc:28] Could not find cuda drivers on your machine, GPU will not be used.\n",
      "2023-06-13 10:03:14.240168: I tensorflow/core/platform/cpu_feature_guard.cc:182] This TensorFlow binary is optimized to use available CPU instructions in performance-critical operations.\n",
      "To enable the following instructions: AVX2 FMA, in other operations, rebuild TensorFlow with the appropriate compiler flags.\n",
      "2023-06-13 10:03:15.373220: W tensorflow/compiler/tf2tensorrt/utils/py_utils.cc:38] TF-TRT Warning: Could not find TensorRT\n"
     ]
    },
    {
     "ename": "ImportError",
     "evalue": "cannot import name 'data_visualizations' from 'sccoda.util' (/home/rmassonix/.local/lib/python3.8/site-packages/sccoda/util/__init__.py)",
     "output_type": "error",
     "traceback": [
      "\u001b[0;31m---------------------------------------------------------------------------\u001b[0m",
      "\u001b[0;31mImportError\u001b[0m                               Traceback (most recent call last)",
      "Cell \u001b[0;32mIn[1], line 4\u001b[0m\n\u001b[1;32m      2\u001b[0m \u001b[38;5;28;01mimport\u001b[39;00m \u001b[38;5;21;01mmatplotlib\u001b[39;00m\u001b[38;5;21;01m.\u001b[39;00m\u001b[38;5;21;01mpyplot\u001b[39;00m \u001b[38;5;28;01mas\u001b[39;00m \u001b[38;5;21;01mplt\u001b[39;00m\n\u001b[1;32m      3\u001b[0m \u001b[38;5;28;01mfrom\u001b[39;00m \u001b[38;5;21;01msccoda\u001b[39;00m\u001b[38;5;21;01m.\u001b[39;00m\u001b[38;5;21;01mutil\u001b[39;00m \u001b[38;5;28;01mimport\u001b[39;00m comp_ana \u001b[38;5;28;01mas\u001b[39;00m mod\n\u001b[0;32m----> 4\u001b[0m \u001b[38;5;28;01mfrom\u001b[39;00m \u001b[38;5;21;01msccoda\u001b[39;00m\u001b[38;5;21;01m.\u001b[39;00m\u001b[38;5;21;01mutil\u001b[39;00m \u001b[38;5;28;01mimport\u001b[39;00m data_visualizations \u001b[38;5;28;01mas\u001b[39;00m viz\n",
      "\u001b[0;31mImportError\u001b[0m: cannot import name 'data_visualizations' from 'sccoda.util' (/home/rmassonix/.local/lib/python3.8/site-packages/sccoda/util/__init__.py)"
     ]
    }
   ],
   "source": [
    "import pandas as pd\n",
    "import matplotlib.pyplot as plt\n",
    "from sccoda.util import comp_ana as mod"
   ]
  },
  {
   "cell_type": "code",
   "execution_count": 2,
   "id": "a75907e6-30e2-443d-9cb3-f92fd49f0736",
   "metadata": {},
   "outputs": [],
   "source": [
    "import sccoda"
   ]
  },
  {
   "cell_type": "code",
   "execution_count": 5,
   "id": "12be2e1a-2a5d-4262-8ddc-c21aa0416eed",
   "metadata": {},
   "outputs": [],
   "source": [
    "from sccoda.util import comp_ana as mod"
   ]
  },
  {
   "cell_type": "code",
   "execution_count": 7,
   "id": "06ae2fc5-6f6b-414c-86f2-a4d1627d2066",
   "metadata": {},
   "outputs": [],
   "source": [
    "import sccoda.datasets as scd"
   ]
  }
 ],
 "metadata": {
  "kernelspec": {
   "display_name": "Python 3 (ipykernel)",
   "language": "python",
   "name": "python3"
  },
  "language_info": {
   "codemirror_mode": {
    "name": "ipython",
    "version": 3
   },
   "file_extension": ".py",
   "mimetype": "text/x-python",
   "name": "python",
   "nbconvert_exporter": "python",
   "pygments_lexer": "ipython3",
   "version": "3.8.10"
  }
 },
 "nbformat": 4,
 "nbformat_minor": 5
}
