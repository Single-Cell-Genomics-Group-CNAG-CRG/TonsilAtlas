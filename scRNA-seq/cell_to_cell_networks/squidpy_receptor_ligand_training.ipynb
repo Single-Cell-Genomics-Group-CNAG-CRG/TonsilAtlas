{
 "cells": [
  {
   "cell_type": "markdown",
   "id": "26234b57-0163-44b2-9263-e1ff8b5470b3",
   "metadata": {},
   "source": [
    "# Squidpy: Receptor-ligand analysis\n",
    "\n",
    "Here, we will follow the [Receptor-ligand analysis](https://squidpy.readthedocs.io/en/latest/auto_examples/graph/compute_ligrec.html) tutorial from squidpy, which uses an efficient re-implementation of [CellPhoneDB](https://www.nature.com/articles/s41596-020-0292-x). To exemplify it, we will use the naive CD4 T cells and dendritic cells from the tonsil atlas as a positive control."
   ]
  },
  {
   "cell_type": "markdown",
   "id": "67a43986-1835-4f77-8996-ed7d8c18493d",
   "metadata": {},
   "source": [
    "## Pre-processing"
   ]
  },
  {
   "cell_type": "markdown",
   "id": "c53df526-99c3-4774-916e-3ea1151908d4",
   "metadata": {},
   "source": [
    "### Load packages"
   ]
  },
  {
   "cell_type": "code",
   "execution_count": 9,
   "id": "e2d66443-3e0c-4930-80ce-1c578a310d16",
   "metadata": {},
   "outputs": [],
   "source": [
    "import numpy as np\n",
    "import pandas as pd\n",
    "import scipy\n",
    "import scanpy as sc\n",
    "import squidpy as sq"
   ]
  },
  {
   "cell_type": "markdown",
   "id": "a9208c34-403e-4d84-aabf-deed6f2a7642",
   "metadata": {},
   "source": [
    "### Read data"
   ]
  },
  {
   "cell_type": "code",
   "execution_count": 41,
   "id": "1f496413-d3b3-459f-8e7b-a762a7168a3a",
   "metadata": {},
   "outputs": [],
   "source": [
    "annotation = pd.read_csv(\"tmp/cell_cell_com_annotation.csv\")\n",
    "adata = sc.read_mtx(\"tmp/cell_cell_com_counts.mtx\")\n",
    "barcodes = pd.read_csv(\"tmp/cell_cell_com_barcodes.txt\", header=None)\n",
    "features = pd.read_csv(\"tmp/cell_cell_com_features.txt\", header=None)"
   ]
  },
  {
   "cell_type": "markdown",
   "id": "5569c591-02fc-4e57-9a12-a6e75510d742",
   "metadata": {},
   "source": [
    "## Setup Anndata object"
   ]
  },
  {
   "cell_type": "code",
   "execution_count": 42,
   "id": "1d591a81-d4c4-4937-8974-e63552b7e4ae",
   "metadata": {},
   "outputs": [
    {
     "data": {
      "text/plain": [
       "AnnData object with n_obs × n_vars = 11140 × 37378"
      ]
     },
     "execution_count": 42,
     "metadata": {},
     "output_type": "execute_result"
    }
   ],
   "source": [
    "adata.obs_names = np.array(barcodes.iloc[:, 0])\n",
    "adata.var_names = np.array(features.iloc[:, 0])\n",
    "adata.obs[[\"annotation\"]] = np.array(annotation[\"annotation_level_3\"])\n",
    "adata"
   ]
  },
  {
   "cell_type": "markdown",
   "id": "d8262d51-20fa-43b1-8a0d-4f266f83dc72",
   "metadata": {},
   "source": [
    "## Run squidpy"
   ]
  },
  {
   "cell_type": "code",
   "execution_count": null,
   "id": "7b8990ba-bc06-4be9-ab51-b1ed99badf3e",
   "metadata": {},
   "outputs": [],
   "source": []
  },
  {
   "cell_type": "markdown",
   "id": "31c4cf3f-5e68-4175-a92d-96c1940d67e4",
   "metadata": {},
   "source": [
    "## Plot"
   ]
  },
  {
   "cell_type": "code",
   "execution_count": null,
   "id": "5e3234ca-0579-4744-a444-c29ac1ebc33d",
   "metadata": {},
   "outputs": [],
   "source": []
  }
 ],
 "metadata": {
  "kernelspec": {
   "display_name": "Python 3",
   "language": "python",
   "name": "python3"
  },
  "language_info": {
   "codemirror_mode": {
    "name": "ipython",
    "version": 3
   },
   "file_extension": ".py",
   "mimetype": "text/x-python",
   "name": "python",
   "nbconvert_exporter": "python",
   "pygments_lexer": "ipython3",
   "version": "3.8.10"
  }
 },
 "nbformat": 4,
 "nbformat_minor": 5
}
